{
  "nbformat": 4,
  "nbformat_minor": 0,
  "metadata": {
    "colab": {
      "name": "porter_stemmer.ipynb",
      "provenance": [],
      "collapsed_sections": [],
      "authorship_tag": "ABX9TyMlsh4vQTbayYtCjhU/GN+1"
    },
    "kernelspec": {
      "name": "python3",
      "display_name": "Python 3"
    },
    "language_info": {
      "name": "python"
    }
  },
  "cells": [
    {
      "cell_type": "code",
      "source": [
        "word = input('문자열을 입력하세요: ')\n",
        "word = word.lower() # 소문자 변경\n",
        "print(\"word : \"+ word)"
      ],
      "metadata": {
        "colab": {
          "base_uri": "https://localhost:8080/"
        },
        "id": "F8f04CcQcI57",
        "outputId": "a398d115-4ff7-46d4-fe1d-a13e4e1e9a97"
      },
      "execution_count": 43,
      "outputs": [
        {
          "output_type": "stream",
          "name": "stdout",
          "text": [
            "문자열을 입력하세요: OSCILLATORS\n",
            "word : oscillators\n"
          ]
        }
      ]
    },
    {
      "cell_type": "code",
      "source": [
        "vowels = \"aeiou\" # 모음\n",
        "m = 0 # 'vc' count"
      ],
      "metadata": {
        "id": "O2DezusKQgEM"
      },
      "execution_count": 44,
      "outputs": []
    },
    {
      "cell_type": "code",
      "source": [
        "def change_count_vc(word):\n",
        "  word_list = []\n",
        "  for letter in word:\n",
        "    if letter not in vowels:\n",
        "      word_list.append('c')\n",
        "    else:\n",
        "      word_list.append('v')\n",
        "\n",
        "  print(word_list)\n",
        "\n",
        "  for i in range(len(word_list) - 1):\n",
        "    result = [word_list[i] for i in range(len(word_list) - 1) if word_list[i] != word_list[i+1]]\n",
        "  \n",
        "  result.append(word_list[-1])\n",
        "  \n",
        "  m = str(result).count('v')\n",
        "  if result[-1] == 'v':\n",
        "    m = m - 1\n",
        "  print('m : %d' %m)\n",
        "  return result"
      ],
      "metadata": {
        "id": "9bH5PnX2c3px"
      },
      "execution_count": 51,
      "outputs": []
    },
    {
      "cell_type": "code",
      "source": [
        "word_list = change_count_vc(word)\n",
        "print(word_list)"
      ],
      "metadata": {
        "colab": {
          "base_uri": "https://localhost:8080/"
        },
        "id": "2Lleb9MpeK-w",
        "outputId": "9faef7fa-e5d3-4b48-c711-e7997104b2e7"
      },
      "execution_count": 52,
      "outputs": [
        {
          "output_type": "stream",
          "name": "stdout",
          "text": [
            "['v', 'c', 'c', 'v', 'c', 'c', 'v', 'c', 'v', 'c', 'c']\n",
            "m : 4\n",
            "['v', 'c', 'v', 'c', 'v', 'c', 'v', 'c']\n"
          ]
        }
      ]
    },
    {
      "cell_type": "code",
      "source": [
        "#step 1a\n",
        "def step_1a(w):\n",
        "  check = 1 # 더 이상 조건을 만족하는 부분이 없는지 확인\n",
        "  while(check != 0):\n",
        "    check = 0\n",
        "    if w[len(w)-4:] == \"sses\":\n",
        "      w = w[:len(w)-4] + \"ss\"\n",
        "      check += 1\n",
        "\n",
        "    if w[len(w)-3:] == \"ies\":\n",
        "      w = w[:len(w)-3] + 'i'\n",
        "      check += 1\n",
        "\n",
        "    if w[len(w)-2:] == \"ss\":\n",
        "      w = w[:len(w)-2] + \"ss\"\n",
        "      check += 1\n",
        "      \n",
        "    if w[-1] == 's':\n",
        "      w = w[:-1]\n",
        "      check += 1\n",
        "\n",
        "  return w"
      ],
      "metadata": {
        "id": "JdJW47ULhrzM"
      },
      "execution_count": 54,
      "outputs": []
    }
  ]
}