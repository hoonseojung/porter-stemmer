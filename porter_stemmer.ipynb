{
  "nbformat": 4,
  "nbformat_minor": 0,
  "metadata": {
    "colab": {
      "name": "porter_stemmer.ipynb",
      "provenance": [],
      "collapsed_sections": [],
      "authorship_tag": "ABX9TyMKeUe7U5XYc8mm+uEV+VBT"
    },
    "kernelspec": {
      "name": "python3",
      "display_name": "Python 3"
    },
    "language_info": {
      "name": "python"
    }
  },
  "cells": [
    {
      "cell_type": "code",
      "source": [
        "word = input('문자열을 입력하세요: ')\n",
        "word = word.lower() # 소문자 변경"
      ],
      "metadata": {
        "colab": {
          "base_uri": "https://localhost:8080/"
        },
        "id": "F8f04CcQcI57",
        "outputId": "4449aee7-5ff7-4697-c14a-a028705f21cf"
      },
      "execution_count": 149,
      "outputs": [
        {
          "name": "stdout",
          "output_type": "stream",
          "text": [
            "문자열을 입력하세요: OSCILLATORS\n"
          ]
        }
      ]
    },
    {
      "cell_type": "code",
      "source": [
        "vowels = \"aeiou\" # 모음\n",
        "global m # 'vc' count\n",
        "m = 1 # initialize\n",
        "\n",
        "# *S = the stem ends with S (and similarly for the other letters).\n",
        "# *v* = the stem contains a vowel.\n",
        "# *d = the stem ends with a double consonant (e.g. -TT, -SS).\n",
        "# *o = the stem ends cvc, where the second c is not W, X or Y (e.g. -WIL, -HOP)"
      ],
      "metadata": {
        "id": "O2DezusKQgEM"
      },
      "execution_count": 152,
      "outputs": []
    },
    {
      "cell_type": "code",
      "source": [
        "def change_count_vc(word):\n",
        "  word_list = []\n",
        "  for letter in word:\n",
        "    if letter not in vowels:\n",
        "      word_list.append('c')\n",
        "    else:\n",
        "      word_list.append('v')\n",
        "\n",
        "  result = [word_list[i] for i in range(len(word_list) - 1) if word_list[i] != word_list[i+1]]\n",
        "  result.append(word_list[-1])\n",
        "  \n",
        "  global m \n",
        "  m = str(result).count('v')\n",
        "  if result[-1] == 'v':\n",
        "    m -= 1\n",
        "  \n",
        "  return result"
      ],
      "metadata": {
        "id": "9bH5PnX2c3px"
      },
      "execution_count": 154,
      "outputs": []
    },
    {
      "cell_type": "code",
      "source": [
        "def condition_o(w):\n",
        "  if w[-3] not in vowels:\n",
        "    if w[-2] in vowels:\n",
        "      if (w[-1] not in vowels) and (w[-1] != 'w' or w[-1] != 'x' or w[-1] != 'y'):\n",
        "        return True\n",
        "  else:\n",
        "    return False"
      ],
      "metadata": {
        "id": "Q_9WQEOhg8Xl"
      },
      "execution_count": 155,
      "outputs": []
    },
    {
      "cell_type": "code",
      "source": [
        "word_list = change_count_vc(word)\n",
        "print(word_list)"
      ],
      "metadata": {
        "colab": {
          "base_uri": "https://localhost:8080/"
        },
        "id": "2Lleb9MpeK-w",
        "outputId": "f27ca3e0-2bfc-4c14-cb6b-fd7391736b7f"
      },
      "execution_count": 156,
      "outputs": [
        {
          "output_type": "stream",
          "name": "stdout",
          "text": [
            "['v', 'c', 'v', 'c', 'v', 'c', 'v', 'c']\n"
          ]
        }
      ]
    },
    {
      "cell_type": "code",
      "source": [
        "# step 1c\n",
        "def step_1c(w):\n",
        "  # *v*\n",
        "  for letter in w[:-1]:\n",
        "    if letter in vowels:\n",
        "      if w[-1] == \"y\":\n",
        "        w = w[:-1] + \"i\"\n",
        "        break\n",
        "  \n",
        "  return w"
      ],
      "metadata": {
        "id": "XeIDZ8zojIkx"
      },
      "execution_count": 158,
      "outputs": []
    },
    {
      "cell_type": "code",
      "source": [
        "# if 2nd or 3rd of the rules in Step 1b is successful, the following func is done\n",
        "def step_1b_follow(w):\n",
        "  word_list = change_count_vc(w)\n",
        "\n",
        "  if w[len(w)-2:] == \"at\" or w[len(w)-2:] == \"bl\" or w[len(w)-2:] == \"iz\":\n",
        "    w += \"e\"\n",
        "\n",
        "  # *d and not (*l or *s or *z)\n",
        "  if (w[-1] == w[-2]) and (w[-1] != 'l' or w[-1] != 's' or w[-1] != 'z'):\n",
        "    w = w[:-1]\n",
        "\n",
        "  # m=1 and *o\n",
        "  if (m == 1) and condition_o(w):\n",
        "    w += \"e\"\n",
        "  \n",
        "  return w"
      ],
      "metadata": {
        "id": "sy5u3wWYc1fk"
      },
      "execution_count": 159,
      "outputs": []
    },
    {
      "cell_type": "code",
      "source": [
        "# step 1b\n",
        "def step_1b(w):\n",
        "  word_list = change_count_vc(w)\n",
        "\n",
        "  if m > 0:\n",
        "    if w[len(w)-3:] == \"eed\":\n",
        "      w = w[:-3] + \"ee\"\n",
        "    \n",
        "  # *v*\n",
        "  for letter in w[:len(w)-2]:\n",
        "    if letter in vowels:\n",
        "      if w[len(w)-2:] == \"ed\":\n",
        "        w = w[:-2]\n",
        "        w = step_1b_follow(w)\n",
        "        break\n",
        "\n",
        "  # *v*\n",
        "  for letter in w[:-3]:\n",
        "    if letter in vowels:\n",
        "      if w[len(w)-3:] == \"ing\":\n",
        "        w = w[:-3]\n",
        "        w = step_1b_follow(w)\n",
        "        break\n",
        "\n",
        "  w = step_1c(w)\n",
        "\n",
        "  return w"
      ],
      "metadata": {
        "id": "NUL3vRFzSYAx"
      },
      "execution_count": 160,
      "outputs": []
    },
    {
      "cell_type": "code",
      "source": [
        "# step 1a\n",
        "def step_1(w):\n",
        "  if w[len(w)-4:] == \"sses\":\n",
        "    w = w[:-4] + \"ss\"\n",
        "\n",
        "  elif w[len(w)-3:] == \"ies\":\n",
        "    w = w[:-3] + 'i'\n",
        "\n",
        "  elif w[len(w)-2:] == \"ss\":\n",
        "    w = w[:-2] + \"ss\"\n",
        "      \n",
        "  elif w[-1] == 's':\n",
        "    w = w[:-1]\n",
        "\n",
        "  w = step_1b(w)\n",
        "  \n",
        "  return w"
      ],
      "metadata": {
        "id": "JdJW47ULhrzM"
      },
      "execution_count": 163,
      "outputs": []
    },
    {
      "cell_type": "code",
      "source": [
        "word = step_1(word)\n",
        "print(word)"
      ],
      "metadata": {
        "colab": {
          "base_uri": "https://localhost:8080/"
        },
        "id": "TMOFwyc4lC-g",
        "outputId": "d012fb79-613b-48a3-f461-1fd69ee3ad82"
      },
      "execution_count": 164,
      "outputs": [
        {
          "output_type": "stream",
          "name": "stdout",
          "text": [
            "oscillator\n"
          ]
        }
      ]
    },
    {
      "cell_type": "code",
      "source": [
        "def step_2(w):\n",
        "  word_list = change_count_vc(w)\n",
        "\n",
        "  if m > 0:\n",
        "    if w[len(w)-7:] == \"ational\":\n",
        "      w = w[:-7] + \"ate\"\n",
        "\n",
        "    elif w[len(w)-6:] == \"tional\":\n",
        "      w = w[:-6] + \"tion\"\n",
        "    \n",
        "    elif w[len(w)-4:] == \"enci\":\n",
        "      w = w[:-1] + \"e\"\n",
        "    \n",
        "    elif w[len(w)-4:] == \"anci\":\n",
        "      w = w[:-1] + \"e\"\n",
        "\n",
        "    elif w[len(w)-4:] == \"izer\":\n",
        "      w = w[:-1]\n",
        "\n",
        "    elif w[len(w)-4:] == \"abli\":\n",
        "      w = w[:-1] + \"e\"\n",
        "\n",
        "    elif w[len(w)-4:] == \"alli\":\n",
        "      w = w[:-2]\n",
        "    \n",
        "    elif w[len(w)-5:] == \"entli\":\n",
        "      w = w[:-2]\n",
        "    \n",
        "    elif w[len(w)-3:] == \"eli\":\n",
        "      w = w[:-2]\n",
        "    \n",
        "    elif w[len(w)-5:] == \"ousli\":\n",
        "      w = w[:-2]\n",
        "\n",
        "    elif w[len(w)-7:] == \"ization\":\n",
        "      w = w[:-5] + \"e\"\n",
        "    \n",
        "    elif w[len(w)-5:] == \"ation\":\n",
        "      w = w[:-3] + \"e\"\n",
        "    \n",
        "    elif w[len(w)-4:] == \"ator\":\n",
        "      w = w[:-2] + \"e\"\n",
        "    \n",
        "    elif w[len(w)-5:] == \"alism\":\n",
        "      w = w[:-3]\n",
        "    \n",
        "    elif w[len(w)-7:] == \"iveness\":\n",
        "      w = w[:-4]\n",
        "    \n",
        "    elif w[len(w)-7:] == \"fulness\":\n",
        "      w = w[:-4]\n",
        "\n",
        "    elif w[len(w)-7:] == \"ousness\":\n",
        "      w = w[:-4]\n",
        "\n",
        "    elif w[len(w)-5:] == \"aliti\":\n",
        "      w = w[:-3]\n",
        "    \n",
        "    elif w[len(w)-5:] == \"iviti\":\n",
        "      w = w[:-3] + \"e\"\n",
        "    \n",
        "    elif w[len(w)-6:] == \"biliti\":\n",
        "      w = w[:-5] + \"le\"\n",
        "    \n",
        "  return w"
      ],
      "metadata": {
        "id": "8xpd1EoIlJJo"
      },
      "execution_count": 165,
      "outputs": []
    },
    {
      "cell_type": "code",
      "source": [
        "print(word)\n",
        "word = step_2(word)\n",
        "print(word)"
      ],
      "metadata": {
        "colab": {
          "base_uri": "https://localhost:8080/"
        },
        "id": "snCfFl1QpLS9",
        "outputId": "9082efb7-7ef2-4461-8a6c-93cb1e492de0"
      },
      "execution_count": 166,
      "outputs": [
        {
          "output_type": "stream",
          "name": "stdout",
          "text": [
            "oscillator\n",
            "oscillate\n"
          ]
        }
      ]
    },
    {
      "cell_type": "code",
      "source": [
        ""
      ],
      "metadata": {
        "id": "OLckcSX7uJOi"
      },
      "execution_count": null,
      "outputs": []
    }
  ]
}