{
  "nbformat": 4,
  "nbformat_minor": 0,
  "metadata": {
    "colab": {
      "name": "porter_stemmer.ipynb",
      "provenance": [],
      "collapsed_sections": [],
      "authorship_tag": "ABX9TyMtseARMejc7V+XwOI07jB2",
      "include_colab_link": true
    },
    "kernelspec": {
      "name": "python3",
      "display_name": "Python 3"
    },
    "language_info": {
      "name": "python"
    }
  },
  "cells": [
    {
      "cell_type": "markdown",
      "metadata": {
        "id": "view-in-github",
        "colab_type": "text"
      },
      "source": [
        "<a href=\"https://colab.research.google.com/github/hoonseojung/porter-stemmer/blob/master/porter_stemmer.ipynb\" target=\"_parent\"><img src=\"https://colab.research.google.com/assets/colab-badge.svg\" alt=\"Open In Colab\"/></a>"
      ]
    },
    {
      "cell_type": "code",
      "source": [
        "vowels = \"aeiou\" # 모음\n",
        "global m # 'vc' count\n",
        "m = 1 # initialize\n",
        "\n",
        "# condition\n",
        "# *S = the stem ends with S (and similarly for the other letters).\n",
        "# *v* = the stem contains a vowel.\n",
        "# *d = the stem ends with a double consonant (e.g. -TT, -SS).\n",
        "# *o = the stem ends cvc, where the second c is not W, X or Y (e.g. -WIL, -HOP)"
      ],
      "metadata": {
        "id": "O2DezusKQgEM"
      },
      "execution_count": 182,
      "outputs": []
    },
    {
      "cell_type": "code",
      "source": [
        "def change_count_vc(word):\n",
        "  word_list = []\n",
        "  for letter in word:\n",
        "    if letter not in vowels:\n",
        "      word_list.append('c')\n",
        "    else:\n",
        "      word_list.append('v')\n",
        "\n",
        "  result = [word_list[i] for i in range(len(word_list) - 1) if word_list[i] != word_list[i+1]]\n",
        "  result.append(word_list[-1])\n",
        "  \n",
        "  global m \n",
        "  m = str(result).count('v')\n",
        "  if result[-1] == 'v':\n",
        "    m -= 1\n",
        "  \n",
        "  return result"
      ],
      "metadata": {
        "id": "9bH5PnX2c3px"
      },
      "execution_count": 154,
      "outputs": []
    },
    {
      "cell_type": "code",
      "source": [
        "def condition_o(w):\n",
        "  if w[-3] not in vowels:\n",
        "    if w[-2] in vowels:\n",
        "      if (w[-1] not in vowels) and (w[-1] != 'w' or w[-1] != 'x' or w[-1] != 'y'):\n",
        "        return True\n",
        "  else:\n",
        "    return False"
      ],
      "metadata": {
        "id": "Q_9WQEOhg8Xl"
      },
      "execution_count": 155,
      "outputs": []
    },
    {
      "cell_type": "code",
      "source": [
        "# step 1c\n",
        "def step_1c(w):\n",
        "  # *v*\n",
        "  for letter in w[:-1]:\n",
        "    if letter in vowels:\n",
        "      if w[-1] == \"y\":\n",
        "        w = w[:-1] + \"i\"\n",
        "        break\n",
        "  \n",
        "  return w"
      ],
      "metadata": {
        "id": "XeIDZ8zojIkx"
      },
      "execution_count": 158,
      "outputs": []
    },
    {
      "cell_type": "code",
      "source": [
        "# if 2nd or 3rd of the rules in Step 1b is successful, the following func is done\n",
        "def step_1b_follow(w):\n",
        "  word_list = change_count_vc(w)\n",
        "\n",
        "  if w[len(w)-2:] == \"at\" or w[len(w)-2:] == \"bl\" or w[len(w)-2:] == \"iz\":\n",
        "    w += \"e\"\n",
        "\n",
        "  # *d and not (*L or *S or *Z)\n",
        "  if (w[-1] == w[-2]) and (w[-1] != 'l' or w[-1] != 's' or w[-1] != 'z'):\n",
        "    w = w[:-1]\n",
        "\n",
        "  # m=1 and *o\n",
        "  if (m == 1) and condition_o(w):\n",
        "    w += \"e\"\n",
        "  \n",
        "  return w"
      ],
      "metadata": {
        "id": "sy5u3wWYc1fk"
      },
      "execution_count": 172,
      "outputs": []
    },
    {
      "cell_type": "code",
      "source": [
        "# step 1b\n",
        "def step_1b(w):\n",
        "  word_list = change_count_vc(w)\n",
        "\n",
        "  if m > 0:\n",
        "    if w[len(w)-3:] == \"eed\":\n",
        "      w = w[:-3] + \"ee\"\n",
        "    \n",
        "  # *v*\n",
        "  for letter in w[:len(w)-2]:\n",
        "    if letter in vowels:\n",
        "      if w[len(w)-2:] == \"ed\":\n",
        "        w = w[:-2]\n",
        "        w = step_1b_follow(w)\n",
        "        break\n",
        "\n",
        "  # *v*\n",
        "  for letter in w[:-3]:\n",
        "    if letter in vowels:\n",
        "      if w[len(w)-3:] == \"ing\":\n",
        "        w = w[:-3]\n",
        "        w = step_1b_follow(w)\n",
        "        break\n",
        "\n",
        "  w = step_1c(w)\n",
        "\n",
        "  return w"
      ],
      "metadata": {
        "id": "NUL3vRFzSYAx"
      },
      "execution_count": 160,
      "outputs": []
    },
    {
      "cell_type": "code",
      "source": [
        "# step 1a\n",
        "def step_1(w):\n",
        "  if w[len(w)-4:] == \"sses\":\n",
        "    w = w[:-4] + \"ss\"\n",
        "\n",
        "  elif w[len(w)-3:] == \"ies\":\n",
        "    w = w[:-3] + 'i'\n",
        "\n",
        "  elif w[len(w)-2:] == \"ss\":\n",
        "    w = w[:-2] + \"ss\"\n",
        "      \n",
        "  elif w[-1] == 's':\n",
        "    w = w[:-1]\n",
        "\n",
        "  w = step_1b(w)\n",
        "  \n",
        "  return w"
      ],
      "metadata": {
        "id": "JdJW47ULhrzM"
      },
      "execution_count": 163,
      "outputs": []
    },
    {
      "cell_type": "code",
      "source": [
        "def step_2(w):\n",
        "  word_list = change_count_vc(w)\n",
        "\n",
        "  if m > 0:\n",
        "    if w[len(w)-7:] == \"ational\":\n",
        "      w = w[:-7] + \"ate\"\n",
        "\n",
        "    elif w[len(w)-6:] == \"tional\":\n",
        "      w = w[:-6] + \"tion\"\n",
        "    \n",
        "    elif w[len(w)-4:] == \"enci\":\n",
        "      w = w[:-1] + \"e\"\n",
        "    \n",
        "    elif w[len(w)-4:] == \"anci\":\n",
        "      w = w[:-1] + \"e\"\n",
        "\n",
        "    elif w[len(w)-4:] == \"izer\":\n",
        "      w = w[:-1]\n",
        "\n",
        "    elif w[len(w)-4:] == \"abli\":\n",
        "      w = w[:-1] + \"e\"\n",
        "\n",
        "    elif w[len(w)-4:] == \"alli\":\n",
        "      w = w[:-2]\n",
        "    \n",
        "    elif w[len(w)-5:] == \"entli\":\n",
        "      w = w[:-2]\n",
        "    \n",
        "    elif w[len(w)-3:] == \"eli\":\n",
        "      w = w[:-2]\n",
        "    \n",
        "    elif w[len(w)-5:] == \"ousli\":\n",
        "      w = w[:-2]\n",
        "\n",
        "    elif w[len(w)-7:] == \"ization\":\n",
        "      w = w[:-5] + \"e\"\n",
        "    \n",
        "    elif w[len(w)-5:] == \"ation\":\n",
        "      w = w[:-3] + \"e\"\n",
        "    \n",
        "    elif w[len(w)-4:] == \"ator\":\n",
        "      w = w[:-2] + \"e\"\n",
        "    \n",
        "    elif w[len(w)-5:] == \"alism\":\n",
        "      w = w[:-3]\n",
        "    \n",
        "    elif w[len(w)-7:] == \"iveness\":\n",
        "      w = w[:-4]\n",
        "    \n",
        "    elif w[len(w)-7:] == \"fulness\":\n",
        "      w = w[:-4]\n",
        "\n",
        "    elif w[len(w)-7:] == \"ousness\":\n",
        "      w = w[:-4]\n",
        "\n",
        "    elif w[len(w)-5:] == \"aliti\":\n",
        "      w = w[:-3]\n",
        "    \n",
        "    elif w[len(w)-5:] == \"iviti\":\n",
        "      w = w[:-3] + \"e\"\n",
        "    \n",
        "    elif w[len(w)-6:] == \"biliti\":\n",
        "      w = w[:-5] + \"le\"\n",
        "    \n",
        "  return w"
      ],
      "metadata": {
        "id": "8xpd1EoIlJJo"
      },
      "execution_count": 165,
      "outputs": []
    },
    {
      "cell_type": "code",
      "source": [
        "def step_3(w):\n",
        "  word_list = change_count_vc(w)\n",
        "\n",
        "  if m > 0:\n",
        "    if w[len(w)-5:] == \"icate\":\n",
        "      w = w[:-3]\n",
        "    \n",
        "    elif w[len(w)-5:] == \"ative\":\n",
        "      w = w[:-5]\n",
        "    \n",
        "    elif w[len(w)-5:] == \"alize\":\n",
        "      w = w[:-3]\n",
        "    \n",
        "    elif w[len(w)-5:] == \"iciti\":\n",
        "      w = w[:-3]\n",
        "    \n",
        "    elif w[len(w)-4:] == \"ical\":\n",
        "      w = w[:-2]\n",
        "\n",
        "    elif w[len(w)-3:] == \"ful\":\n",
        "      w = w[:-3]\n",
        "\n",
        "    elif w[len(w)-4:] == \"ness\":\n",
        "      w = w[:-4]\n",
        "\n",
        "  return w"
      ],
      "metadata": {
        "id": "OLckcSX7uJOi"
      },
      "execution_count": 168,
      "outputs": []
    },
    {
      "cell_type": "code",
      "source": [
        "def step_4(w):\n",
        "  word_list = change_count_vc(w)\n",
        "\n",
        "  if m > 1:\n",
        "    if w[len(w)-2:] == \"al\":\n",
        "      w = w[:-2]\n",
        "\n",
        "    elif w[len(w)-4:] == \"ance\" or w[len(w)-4:] == \"ence\":\n",
        "      w = w[:-4]\n",
        "\n",
        "    elif w[len(w)-2:] == \"er\" or w[len(w)-2:] == \"ic\":\n",
        "      w = w[:-2]\n",
        "\n",
        "    elif w[len(w)-4:] == \"able\" or w[len(w)-4:] == \"ible\" :\n",
        "      w = w[:-4]\n",
        "\n",
        "    elif w[len(w)-3:] == \"ant\":\n",
        "      w = w[:-3]\n",
        "\n",
        "    elif w[len(w)-5:] == \"ement\":\n",
        "      w = w[:-5]\n",
        "\n",
        "    elif w[len(w)-4:] == \"ment\":\n",
        "      w = w[:-4]\n",
        "\n",
        "    elif w[len(w)-3:] == \"ent\":\n",
        "      w = w[:-3]\n",
        "\n",
        "    elif (w[-4] == \"s\" or w[-4] == \"t\") and w[len(w)-3:] == \"ion\":\n",
        "      w = w[:-4]\n",
        "\n",
        "    elif w[len(w)-2:] == \"ou\":\n",
        "      w = w[:-2]\n",
        "\n",
        "    elif w[len(w)-3:] == \"ism\" or w[len(w)-3:] == \"ate\" or w[len(w)-3:] == \"iti\" or w[len(w)-3:] == \"ous\" or w[len(w)-3:] == \"ive\" or w[len(w)-3:] == \"ize\":\n",
        "      w = w[:-3]\n",
        "\n",
        "  return w"
      ],
      "metadata": {
        "id": "uf4PTZsUxLQC"
      },
      "execution_count": 170,
      "outputs": []
    },
    {
      "cell_type": "code",
      "source": [
        "def step_5(w):\n",
        "  # step 5a\n",
        "  word_list = change_count_vc(w)\n",
        "\n",
        "  if (m > 1) and (w[-1] == \"e\"):\n",
        "    w = w[:-1]\n",
        "\n",
        "  # m=1 and not *o \n",
        "  elif (m == 1) and (not condition_o(w)) and (w[-1] == \"e\"):\n",
        "    w = w[:-1]\n",
        "\n",
        "  # step 5b\n",
        "  word_list = change_count_vc(w)\n",
        "\n",
        "  # *d and *L\n",
        "  if (m > 1) and (w[-1] == w[-2]) and (w[-1] == 'l'):\n",
        "    w = w[:-1]\n",
        "  \n",
        "  return w"
      ],
      "metadata": {
        "id": "jkn0bTit0hwO"
      },
      "execution_count": 173,
      "outputs": []
    },
    {
      "cell_type": "code",
      "source": [
        "def stemmer():\n",
        "  word = input('단어를 입력하세요: ')\n",
        "  word = word.lower() # 소문자 변경\n",
        "\n",
        "  print(\"입력된 단어 : \"+ word)\n",
        "\n",
        "  word = step_1(word)\n",
        "  print(\"step 1 : \"+ word)\n",
        "  word = step_2(word)\n",
        "  print(\"step 2 : \"+ word)\n",
        "  word = step_3(word)\n",
        "  print(\"step 3 : \"+ word)\n",
        "  word = step_4(word)\n",
        "  print(\"step 4 : \"+ word)\n",
        "  word = step_5(word)\n",
        "  print(\"step 5 : \"+ word)\n",
        "\n",
        "  print(\"입력된 단어의 원형 : \"+ word)"
      ],
      "metadata": {
        "id": "cix27qMT3I4s"
      },
      "execution_count": 179,
      "outputs": []
    },
    {
      "cell_type": "code",
      "source": [
        "stemmer()"
      ],
      "metadata": {
        "colab": {
          "base_uri": "https://localhost:8080/"
        },
        "id": "Hj4Yg4nE4Qnw",
        "outputId": "89e8e4e5-003f-4ca2-e76f-81804d7dfca7"
      },
      "execution_count": 180,
      "outputs": [
        {
          "output_type": "stream",
          "name": "stdout",
          "text": [
            "단어를 입력하세요: GENERALIZATIONS\n",
            "입력된 단어 : generalizations\n",
            "step 1 : generalization\n",
            "step 2 : generalize\n",
            "step 3 : general\n",
            "step 4 : gener\n",
            "step 5 : gener\n",
            "입력된 단어의 원형 : gener\n"
          ]
        }
      ]
    },
    {
      "cell_type": "code",
      "source": [
        "stemmer()"
      ],
      "metadata": {
        "colab": {
          "base_uri": "https://localhost:8080/"
        },
        "id": "3a8mg0HG4SRN",
        "outputId": "d7f8f396-47ef-4a2c-e6a2-f1d3fc7268f0"
      },
      "execution_count": 181,
      "outputs": [
        {
          "output_type": "stream",
          "name": "stdout",
          "text": [
            "단어를 입력하세요: OSCILLATORS\n",
            "입력된 단어 : oscillators\n",
            "step 1 : oscillator\n",
            "step 2 : oscillate\n",
            "step 3 : oscillate\n",
            "step 4 : oscill\n",
            "step 5 : oscil\n",
            "입력된 단어의 원형 : oscil\n"
          ]
        }
      ]
    }
  ]
}