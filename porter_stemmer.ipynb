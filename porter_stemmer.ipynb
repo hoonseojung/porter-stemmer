{
  "nbformat": 4,
  "nbformat_minor": 0,
  "metadata": {
    "colab": {
      "name": "porter_stemmer.ipynb",
      "provenance": [],
      "collapsed_sections": [],
      "authorship_tag": "ABX9TyOim9fc3pDpZjZCB6L+l8L3"
    },
    "kernelspec": {
      "name": "python3",
      "display_name": "Python 3"
    },
    "language_info": {
      "name": "python"
    }
  },
  "cells": [
    {
      "cell_type": "code",
      "source": [
        "word = input('문자열을 입력하세요: ')\n",
        "word = word.lower() # 소문자 변경\n",
        "print(\"word : \"+ word)\n",
        "print(word[:-3])\n",
        "print(word[len(word)-3:])"
      ],
      "metadata": {
        "colab": {
          "base_uri": "https://localhost:8080/"
        },
        "id": "F8f04CcQcI57",
        "outputId": "8ea41854-c5a1-47a6-f2a8-085d6e882a30"
      },
      "execution_count": 70,
      "outputs": [
        {
          "output_type": "stream",
          "name": "stdout",
          "text": [
            "문자열을 입력하세요: CARESSES\n",
            "word : caresses\n",
            "cares\n",
            "ses\n"
          ]
        }
      ]
    },
    {
      "cell_type": "code",
      "source": [
        "vowels = \"aeiou\" # 모음\n",
        "m = 0 # 'vc' count\n",
        "\n",
        "# *S = the stem ends with S (and similarly for the other letters).\n",
        "# *v* = the stem contains a vowel.\n",
        "# *d = the stem ends with a double consonant (e.g. -TT, -SS).\n",
        "# *o = the stem ends cvc, where the second c is not W, X or Y (e.g. -WIL, -HOP)"
      ],
      "metadata": {
        "id": "O2DezusKQgEM"
      },
      "execution_count": 65,
      "outputs": []
    },
    {
      "cell_type": "code",
      "source": [
        "def condition_o(w):\n",
        "  if w[-3] not in vowels:\n",
        "    if w[-2] in vowels:\n",
        "      if (w[-1] not in vowels) and (w[-1] != 'w' or w[-1] != 'x' or w[-1] != 'y'):\n",
        "        return True\n",
        "  else:\n",
        "    return False"
      ],
      "metadata": {
        "id": "Q_9WQEOhg8Xl"
      },
      "execution_count": 72,
      "outputs": []
    },
    {
      "cell_type": "code",
      "source": [
        "def change_count_vc(word):\n",
        "  word_list = []\n",
        "  for letter in word:\n",
        "    if letter not in vowels:\n",
        "      word_list.append('c')\n",
        "    else:\n",
        "      word_list.append('v')\n",
        "\n",
        "  print(word_list)\n",
        "\n",
        "  for i in range(len(word_list) - 1):\n",
        "    result = [word_list[i] for i in range(len(word_list) - 1) if word_list[i] != word_list[i+1]]\n",
        "  \n",
        "  result.append(word_list[-1])\n",
        "  \n",
        "  m = str(result).count('v')\n",
        "  if result[-1] == 'v':\n",
        "    m = m - 1\n",
        "  print('m : %d' %m)\n",
        "  return result"
      ],
      "metadata": {
        "id": "9bH5PnX2c3px"
      },
      "execution_count": 61,
      "outputs": []
    },
    {
      "cell_type": "code",
      "source": [
        "word_list = change_count_vc(word)\n",
        "print(word_list)"
      ],
      "metadata": {
        "colab": {
          "base_uri": "https://localhost:8080/"
        },
        "id": "2Lleb9MpeK-w",
        "outputId": "8b615143-0d47-40ad-d2cc-07a1549a51c4"
      },
      "execution_count": 62,
      "outputs": [
        {
          "output_type": "stream",
          "name": "stdout",
          "text": [
            "['c', 'v', 'c', 'v', 'c', 'c', 'v', 'c']\n",
            "m : 3\n",
            "['c', 'v', 'c', 'v', 'c', 'v', 'c']\n"
          ]
        }
      ]
    },
    {
      "cell_type": "code",
      "source": [
        "#step 1a\n",
        "def step_1a(w):\n",
        "  if w[len(w)-4:] == \"sses\":\n",
        "    w = w[:len(w)-4] + \"ss\"\n",
        "\n",
        "  elif w[len(w)-3:] == \"ies\":\n",
        "    w = w[:len(w)-3] + 'i'\n",
        "\n",
        "  elif w[len(w)-2:] == \"ss\":\n",
        "    w = w[:len(w)-2] + \"ss\"\n",
        "      \n",
        "  elif w[-1] == 's':\n",
        "    w = w[:-1]\n",
        "\n",
        "  return w"
      ],
      "metadata": {
        "id": "JdJW47ULhrzM"
      },
      "execution_count": 66,
      "outputs": []
    },
    {
      "cell_type": "code",
      "source": [
        "#step 1b\n",
        "def step_1b(w):\n",
        "  word_list = change_count_vc(w)\n",
        "\n",
        "  if m > 0:\n",
        "    if w[len(w)-3:] == \"eed\":\n",
        "      w = w[:len(w)-3] + \"ee\"\n",
        "    \n",
        "  # *v*\n",
        "  for letter in w[:len(w)-2]:\n",
        "    if letter in vowels:\n",
        "      if w[len(w)-2:] == \"ed\":\n",
        "        w = w[:len(w)-2]\n",
        "        w = step_1b_follow(w)\n",
        "\n",
        "  # *v*\n",
        "  for letter in w[:len(w)-3]:\n",
        "    if letter in vowels:\n",
        "      if w[len(w)-3:] == \"ing\":\n",
        "        w = w[:len(w)-3]\n",
        "        w = step_1b_follow(w)\n",
        "    \n",
        "  return w"
      ],
      "metadata": {
        "id": "NUL3vRFzSYAx"
      },
      "execution_count": 75,
      "outputs": []
    },
    {
      "cell_type": "code",
      "source": [
        "# if 2nd or 3rd of the rules in Step 1b is successful, the following func is done\n",
        "def step_1b_follow(w):\n",
        "  word_list = change_count_vc(w)\n",
        "\n",
        "  if w[len(w)-2:] == \"at\" or w[len(w)-2:] == \"bl\" or w[len(w)-2:] == \"iz\":\n",
        "    w += \"e\"\n",
        "\n",
        "  # *d and not (*l or *s or *z)\n",
        "  if (w[-1] == w[-2]) and (w[-1] != 'l' or w[-1] != 's' or w[-1] != 'z'):\n",
        "    w = w[:-1]\n",
        "\n",
        "  # m=1 and *o\n",
        "  if (m == 1) and condition_o(w):\n",
        "    w += \"e\"\n",
        "  \n",
        "  return w"
      ],
      "metadata": {
        "id": "sy5u3wWYc1fk"
      },
      "execution_count": 74,
      "outputs": []
    }
  ]
}